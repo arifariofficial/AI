{
 "cells": [
  {
   "cell_type": "code",
   "execution_count": 2,
   "metadata": {},
   "outputs": [
    {
     "name": "stdout",
     "output_type": "stream",
     "text": [
      "array:  [1 2 3 4 5]\n",
      "Type:  <class 'numpy.ndarray'>\n"
     ]
    }
   ],
   "source": [
    "import numpy as np\n",
    "\n",
    "arr = np.array([1, 2, 3, 4, 5])\n",
    "\n",
    "print(\"array: \", arr)\n",
    "print(\"Type: \", type(arr))"
   ]
  },
  {
   "cell_type": "code",
   "execution_count": 3,
   "metadata": {},
   "outputs": [
    {
     "name": "stdout",
     "output_type": "stream",
     "text": [
      "Array:\n",
      " [[10 20 30]\n",
      " [40 50 60]]\n",
      "\n",
      "Number of dimensions: 2\n",
      "Shape of array: (2, 3)\n",
      "Total number of elements: 6\n",
      "Data type: int64\n",
      "Size of each element (bytes): 8\n",
      "Total memory usage (bytes): 48\n"
     ]
    }
   ],
   "source": [
    "import numpy as np  \n",
    "\n",
    "# Creating a 2D array\n",
    "arr = np.array([[10, 20, 30], [40, 50, 60]])\n",
    "\n",
    "# Checking attributes\n",
    "print(\"Array:\\n\", arr)\n",
    "print(\"\\nNumber of dimensions:\", arr.ndim)  # Should print 2\n",
    "print(\"Shape of array:\", arr.shape)        # (rows, columns)\n",
    "print(\"Total number of elements:\", arr.size)  \n",
    "print(\"Data type:\", arr.dtype)  \n",
    "print(\"Size of each element (bytes):\", arr.itemsize)  \n",
    "print(\"Total memory usage (bytes):\", arr.nbytes)  \n"
   ]
  },
  {
   "cell_type": "markdown",
   "metadata": {},
   "source": [
    "#### Indexing in 1D Arrays"
   ]
  },
  {
   "cell_type": "code",
   "execution_count": 4,
   "metadata": {},
   "outputs": [
    {
     "name": "stdout",
     "output_type": "stream",
     "text": [
      "First element: 10\n",
      "Last element: 50\n",
      "Second element: 20\n"
     ]
    }
   ],
   "source": [
    "# Creating a 1D array\n",
    "arr = np.array([10, 20, 30, 40, 50])\n",
    "\n",
    "# Accessing elements\n",
    "print(\"First element:\", arr[0])   # 10\n",
    "print(\"Last element:\", arr[-1])   # 50\n",
    "print(\"Second element:\", arr[1])  # 20"
   ]
  },
  {
   "cell_type": "markdown",
   "metadata": {},
   "source": [
    "#### Indexing in 2D Arrays (Matrices)"
   ]
  },
  {
   "cell_type": "code",
   "execution_count": 5,
   "metadata": {},
   "outputs": [
    {
     "name": "stdout",
     "output_type": "stream",
     "text": [
      "Element at row 1, col 2: 2\n",
      "Element at row 3, col 3: 9\n"
     ]
    }
   ],
   "source": [
    "# Creating a 2D array\n",
    "arr2D = np.array([[1, 2, 3], \n",
    "                  [4, 5, 6], \n",
    "                  [7, 8, 9]])\n",
    "\n",
    "# Accessing elements\n",
    "print(\"Element at row 1, col 2:\", arr2D[0, 1])  # 2\n",
    "print(\"Element at row 3, col 3:\", arr2D[2, 2])  # 9\n"
   ]
  },
  {
   "cell_type": "markdown",
   "metadata": {},
   "source": [
    "#### Slicing NumPy Arrays"
   ]
  },
  {
   "cell_type": "code",
   "execution_count": 6,
   "metadata": {},
   "outputs": [
    {
     "name": "stdout",
     "output_type": "stream",
     "text": [
      "Elements from index 1 to 3: [20 30 40]\n",
      "Every second element: [10 30 50]\n",
      "First two rows:\n",
      " [[1 2 3]\n",
      " [4 5 6]]\n",
      "First two columns:\n",
      " [[1 2]\n",
      " [4 5]\n",
      " [7 8]]\n"
     ]
    }
   ],
   "source": [
    "# 1D Array Slicing\n",
    "arr = np.array([10, 20, 30, 40, 50])\n",
    "print(\"Elements from index 1 to 3:\", arr[1:4])  # [20, 30, 40]\n",
    "print(\"Every second element:\", arr[::2])        # [10, 30, 50]\n",
    "\n",
    "# 2D Array Slicing\n",
    "arr2D = np.array([[1, 2, 3], \n",
    "                  [4, 5, 6], \n",
    "                  [7, 8, 9]])\n",
    "\n",
    "print(\"First two rows:\\n\", arr2D[:2, :])   # First two rows\n",
    "print(\"First two columns:\\n\", arr2D[:, :2])  # First two columns\n"
   ]
  },
  {
   "cell_type": "markdown",
   "metadata": {},
   "source": [
    "#### Reshaping Arrays"
   ]
  },
  {
   "cell_type": "code",
   "execution_count": 7,
   "metadata": {},
   "outputs": [
    {
     "name": "stdout",
     "output_type": "stream",
     "text": [
      "Original Array:\n",
      " [1 2 3 4 5 6]\n",
      "\n",
      "Reshaped Array (2x3):\n",
      " [[1 2 3]\n",
      " [4 5 6]]\n"
     ]
    }
   ],
   "source": [
    "# Creating a 1D array\n",
    "arr = np.array([1, 2, 3, 4, 5, 6])\n",
    "\n",
    "# Reshaping into 2 rows and 3 columns\n",
    "reshaped_arr = arr.reshape(2, 3)\n",
    "\n",
    "print(\"Original Array:\\n\", arr)\n",
    "print(\"\\nReshaped Array (2x3):\\n\", reshaped_arr)"
   ]
  },
  {
   "cell_type": "markdown",
   "metadata": {},
   "source": [
    "#### Using -1 in Reshaping"
   ]
  },
  {
   "cell_type": "code",
   "execution_count": 8,
   "metadata": {},
   "outputs": [
    {
     "name": "stdout",
     "output_type": "stream",
     "text": [
      "Reshaped using -1:\n",
      " [[1 2 3]\n",
      " [4 5 6]]\n"
     ]
    }
   ],
   "source": [
    "arr = np.array([1, 2, 3, 4, 5, 6])\n",
    "\n",
    "# Let NumPy calculate the correct number of columns\n",
    "reshaped_arr = arr.reshape(2, -1)  # 2 rows, auto column calculation\n",
    "\n",
    "print(\"Reshaped using -1:\\n\", reshaped_arr)\n"
   ]
  },
  {
   "cell_type": "markdown",
   "metadata": {},
   "source": [
    "#### Flattening an Array"
   ]
  },
  {
   "cell_type": "code",
   "execution_count": 10,
   "metadata": {},
   "outputs": [
    {
     "name": "stdout",
     "output_type": "stream",
     "text": [
      "Original 2D Array:\n",
      " [[1 2 3]\n",
      " [4 5 6]]\n",
      "\n",
      "Flattened Array:\n",
      " [1 2 3 4 5 6]\n"
     ]
    }
   ],
   "source": [
    "arr2D = np.array([[1, 2, 3], [4, 5, 6]])\n",
    "\n",
    "# Flatten using ravel()\n",
    "flattened = arr2D.ravel()  # returns a copy of the original array\n",
    "\n",
    "print(\"Original 2D Array:\\n\", arr2D)\n",
    "print(\"\\nFlattened Array:\\n\", flattened)\n"
   ]
  },
  {
   "cell_type": "markdown",
   "metadata": {},
   "source": [
    "#### Element-wise Arithmetic Operations"
   ]
  },
  {
   "cell_type": "code",
   "execution_count": 11,
   "metadata": {},
   "outputs": [
    {
     "name": "stdout",
     "output_type": "stream",
     "text": [
      "Addition: [11 22 33 44]\n",
      "Subtraction: [ -9 -18 -27 -36]\n",
      "Multiplication: [ 10  40  90 160]\n",
      "Division: [0.1 0.1 0.1 0.1]\n",
      "Power: [ 1  4  9 16]\n"
     ]
    }
   ],
   "source": [
    "# Creating two arrays\n",
    "arr1 = np.array([1, 2, 3, 4])\n",
    "arr2 = np.array([10, 20, 30, 40])\n",
    "\n",
    "# Element-wise operations\n",
    "print(\"Addition:\", arr1 + arr2)  # [11 22 33 44]\n",
    "print(\"Subtraction:\", arr1 - arr2)  # [-9 -18 -27 -36]\n",
    "print(\"Multiplication:\", arr1 * arr2)  # [10 40 90 160]\n",
    "print(\"Division:\", arr1 / arr2)  # [0.1 0.1 0.1 0.1]\n",
    "print(\"Power:\", arr1 ** 2)  # [1 4 9 16]"
   ]
  },
  {
   "cell_type": "markdown",
   "metadata": {},
   "source": [
    "#### Using NumPy's Universal Functions"
   ]
  },
  {
   "cell_type": "code",
   "execution_count": 12,
   "metadata": {},
   "outputs": [
    {
     "name": "stdout",
     "output_type": "stream",
     "text": [
      "Square Root: [1.         1.41421356 1.73205081 2.         2.23606798]\n",
      "Exponential (e^x): [  2.71828183   7.3890561   20.08553692  54.59815003 148.4131591 ]\n",
      "Natural Logarithm: [0.         0.69314718 1.09861229 1.38629436 1.60943791]\n",
      "Sine values: [ 0.84147098  0.90929743  0.14112001 -0.7568025  -0.95892427]\n",
      "Cosine values: [ 0.54030231 -0.41614684 -0.9899925  -0.65364362  0.28366219]\n"
     ]
    }
   ],
   "source": [
    "arr = np.array([1, 2, 3, 4, 5])\n",
    "\n",
    "# Applying universal functions\n",
    "print(\"Square Root:\", np.sqrt(arr))  \n",
    "print(\"Exponential (e^x):\", np.exp(arr))  \n",
    "print(\"Natural Logarithm:\", np.log(arr))  \n",
    "print(\"Sine values:\", np.sin(arr))  \n",
    "print(\"Cosine values:\", np.cos(arr))  \n"
   ]
  },
  {
   "cell_type": "markdown",
   "metadata": {},
   "source": [
    "#### Basic Aggregation Functions"
   ]
  },
  {
   "cell_type": "code",
   "execution_count": 13,
   "metadata": {},
   "outputs": [
    {
     "name": "stdout",
     "output_type": "stream",
     "text": [
      "Sum: 150\n",
      "Mean (Average): 30.0\n",
      "Minimum: 10\n",
      "Maximum: 50\n",
      "Standard Deviation: 14.142135623730951\n",
      "Variance: 200.0\n"
     ]
    }
   ],
   "source": [
    "# Creating an array\n",
    "arr = np.array([10, 20, 30, 40, 50])\n",
    "\n",
    "# Aggregation operations\n",
    "print(\"Sum:\", np.sum(arr))         # 150\n",
    "print(\"Mean (Average):\", np.mean(arr))   # 30.0\n",
    "print(\"Minimum:\", np.min(arr))     # 10\n",
    "print(\"Maximum:\", np.max(arr))     # 50\n",
    "print(\"Standard Deviation:\", np.std(arr))  # 14.14\n",
    "print(\"Variance:\", np.var(arr))    # 200.0"
   ]
  },
  {
   "cell_type": "markdown",
   "metadata": {},
   "source": [
    "#### Aggregations on Multi-Dimensional Arrays"
   ]
  },
  {
   "cell_type": "code",
   "execution_count": 15,
   "metadata": {},
   "outputs": [
    {
     "name": "stdout",
     "output_type": "stream",
     "text": [
      "Column-wise Sum (axis=0): [12 15 18]\n",
      "Row-wise Sum (axis=1): [ 6 15 24]\n"
     ]
    }
   ],
   "source": [
    "# Creating a 2D array\n",
    "arr2D = np.array([[1, 2, 3], \n",
    "                  [4, 5, 6], \n",
    "                  [7, 8, 9]])\n",
    "\n",
    "# Aggregation operations along axis\n",
    "print(\"Column-wise Sum (axis=0):\", np.sum(arr2D, axis=0))  # [12 15 18]\n",
    "print(\"Row-wise Sum (axis=1):\", np.sum(arr2D, axis=1))  # [6 15 24]\n",
    "\n",
    "# axis=0 means sum each column\n",
    "# axis=1 means sum each row"
   ]
  },
  {
   "cell_type": "markdown",
   "metadata": {},
   "source": [
    "#### Sorting NumPy Arrays"
   ]
  },
  {
   "cell_type": "code",
   "execution_count": 16,
   "metadata": {},
   "outputs": [
    {
     "name": "stdout",
     "output_type": "stream",
     "text": [
      "Original Array: [40 10 30 20 50]\n",
      "Sorted Array: [10 20 30 40 50]\n"
     ]
    }
   ],
   "source": [
    "# Creating an array\n",
    "arr = np.array([40, 10, 30, 20, 50])\n",
    "\n",
    "# Sorting the array\n",
    "sorted_arr = np.sort(arr)\n",
    "\n",
    "print(\"Original Array:\", arr)\n",
    "print(\"Sorted Array:\", sorted_arr)"
   ]
  },
  {
   "cell_type": "markdown",
   "metadata": {},
   "source": [
    "#### Sorting a 2D Array"
   ]
  },
  {
   "cell_type": "code",
   "execution_count": 17,
   "metadata": {},
   "outputs": [
    {
     "name": "stdout",
     "output_type": "stream",
     "text": [
      "Row-wise Sorted:\n",
      " [[1 2 3]\n",
      " [6 7 9]\n",
      " [4 5 8]]\n",
      "Column-wise Sorted:\n",
      " [[3 1 2]\n",
      " [4 5 7]\n",
      " [9 6 8]]\n"
     ]
    }
   ],
   "source": [
    "arr2D = np.array([[3, 1, 2], \n",
    "                  [9, 6, 7], \n",
    "                  [4, 5, 8]])\n",
    "\n",
    "# Sorting along rows (axis=1)\n",
    "print(\"Row-wise Sorted:\\n\", np.sort(arr2D, axis=1))\n",
    "\n",
    "# Sorting along columns (axis=0)\n",
    "print(\"Column-wise Sorted:\\n\", np.sort(arr2D, axis=0))\n"
   ]
  },
  {
   "cell_type": "markdown",
   "metadata": {},
   "source": [
    "#### Filtering NumPy Arrays using Boolean Masking"
   ]
  },
  {
   "cell_type": "code",
   "execution_count": 18,
   "metadata": {},
   "outputs": [
    {
     "name": "stdout",
     "output_type": "stream",
     "text": [
      "Boolean Mask: [False False  True  True  True]\n",
      "Filtered Array: [30 40 50]\n"
     ]
    }
   ],
   "source": [
    "# Creating an array\n",
    "arr = np.array([10, 20, 30, 40, 50])\n",
    "\n",
    "# Creating a boolean mask (condition: values > 25)\n",
    "mask = arr > 25\n",
    "\n",
    "# Applying the mask to filter values\n",
    "filtered_arr = arr[mask]\n",
    "\n",
    "print(\"Boolean Mask:\", mask)  # [False False  True  True  True]\n",
    "print(\"Filtered Array:\", filtered_arr)  # [30 40 50]\n"
   ]
  },
  {
   "cell_type": "markdown",
   "metadata": {},
   "source": [
    "#### Fancy Indexing (Selecting Specific Elements)"
   ]
  },
  {
   "cell_type": "code",
   "execution_count": 19,
   "metadata": {},
   "outputs": [
    {
     "name": "stdout",
     "output_type": "stream",
     "text": [
      "Selected Elements: [20 40 50]\n"
     ]
    }
   ],
   "source": [
    "arr = np.array([10, 20, 30, 40, 50])\n",
    "\n",
    "# Selecting elements at positions 1, 3, and 4\n",
    "selected = arr[[1, 3, 4]]\n",
    "\n",
    "print(\"Selected Elements:\", selected)  # [20 40 50]\n"
   ]
  },
  {
   "cell_type": "markdown",
   "metadata": {},
   "source": [
    "#### Checking If an Array is a Copy or a View"
   ]
  },
  {
   "cell_type": "code",
   "execution_count": 20,
   "metadata": {},
   "outputs": [
    {
     "name": "stdout",
     "output_type": "stream",
     "text": [
      "View base: [1 2 3 4]\n",
      "Copy base: None\n"
     ]
    }
   ],
   "source": [
    "arr = np.array([1, 2, 3, 4])\n",
    "\n",
    "view_arr = arr.view()\n",
    "copy_arr = arr.copy()\n",
    "\n",
    "print(\"View base:\", view_arr.base)  # Shows the original array\n",
    "print(\"Copy base:\", copy_arr.base)  # None (independent copy)\n"
   ]
  },
  {
   "cell_type": "markdown",
   "metadata": {},
   "source": [
    "#### Stacking NumPy Arrays (Joining Multiple Arrays)"
   ]
  },
  {
   "cell_type": "markdown",
   "metadata": {},
   "source": [
    "#### Vertical Stacking (vstack)"
   ]
  },
  {
   "cell_type": "code",
   "execution_count": 21,
   "metadata": {},
   "outputs": [
    {
     "name": "stdout",
     "output_type": "stream",
     "text": [
      "Vertical Stack:\n",
      " [[1 2]\n",
      " [3 4]\n",
      " [5 6]\n",
      " [7 8]]\n"
     ]
    }
   ],
   "source": [
    "arr1 = np.array([[1, 2], [3, 4]])\n",
    "arr2 = np.array([[5, 6], [7, 8]])\n",
    "\n",
    "# Stacking vertically\n",
    "result = np.vstack((arr1, arr2))\n",
    "\n",
    "print(\"Vertical Stack:\\n\", result)"
   ]
  },
  {
   "cell_type": "markdown",
   "metadata": {},
   "source": [
    "#### Horizontal Stacking (hstack)"
   ]
  },
  {
   "cell_type": "code",
   "execution_count": 22,
   "metadata": {},
   "outputs": [
    {
     "name": "stdout",
     "output_type": "stream",
     "text": [
      "Horizontal Stack:\n",
      " [[1 2 5 6]\n",
      " [3 4 7 8]]\n"
     ]
    }
   ],
   "source": [
    "result = np.hstack((arr1, arr2))\n",
    "print(\"Horizontal Stack:\\n\", result)\n"
   ]
  },
  {
   "cell_type": "markdown",
   "metadata": {},
   "source": [
    "#### Column & Row Stacking (column_stack & row_stack)"
   ]
  },
  {
   "cell_type": "code",
   "execution_count": 24,
   "metadata": {},
   "outputs": [
    {
     "name": "stdout",
     "output_type": "stream",
     "text": [
      "Column Stack:\n",
      " [[1 4]\n",
      " [2 5]\n",
      " [3 6]]\n",
      "Row Stack:\n",
      " [[1 2 3]\n",
      " [4 5 6]]\n"
     ]
    },
    {
     "name": "stderr",
     "output_type": "stream",
     "text": [
      "/var/folders/r9/3w7hxnm53t34_s8nmmbf0tlc0000gn/T/ipykernel_34088/836325212.py:8: DeprecationWarning: `row_stack` alias is deprecated. Use `np.vstack` directly.\n",
      "  print(\"Row Stack:\\n\", np.row_stack((arr1D_1, arr1D_2)))\n"
     ]
    }
   ],
   "source": [
    "arr1D_1 = np.array([1, 2, 3])\n",
    "arr1D_2 = np.array([4, 5, 6])\n",
    "\n",
    "# Column-wise stacking (Converts 1D arrays into 2D column vectors)\n",
    "print(\"Column Stack:\\n\", np.column_stack((arr1D_1, arr1D_2)))\n",
    "\n",
    "# Row-wise stacking (Simply stacks like hstack)\n",
    "print(\"Row Stack:\\n\", np.row_stack((arr1D_1, arr1D_2)))\n"
   ]
  },
  {
   "cell_type": "markdown",
   "metadata": {},
   "source": [
    "#### Splitting NumPy Arrays (Dividing into Smaller Arrays)"
   ]
  },
  {
   "cell_type": "markdown",
   "metadata": {},
   "source": [
    "#### Splitting a 1D Array"
   ]
  },
  {
   "cell_type": "code",
   "execution_count": 25,
   "metadata": {},
   "outputs": [
    {
     "name": "stdout",
     "output_type": "stream",
     "text": [
      "Splitted Arrays: [array([10, 20]), array([30, 40]), array([50, 60])]\n"
     ]
    }
   ],
   "source": [
    "arr = np.array([10, 20, 30, 40, 50, 60])\n",
    "\n",
    "# Splitting into 3 equal parts\n",
    "split_arrays = np.split(arr, 3)\n",
    "\n",
    "print(\"Splitted Arrays:\", split_arrays)\n"
   ]
  },
  {
   "cell_type": "markdown",
   "metadata": {},
   "source": [
    "#### Splitting a 2D Array"
   ]
  },
  {
   "cell_type": "code",
   "execution_count": 26,
   "metadata": {},
   "outputs": [
    {
     "name": "stdout",
     "output_type": "stream",
     "text": [
      "Split along columns: [array([[1, 2],\n",
      "       [5, 6]]), array([[3, 4],\n",
      "       [7, 8]])]\n",
      "Split along rows: [array([[1, 2, 3, 4]]), array([[5, 6, 7, 8]])]\n"
     ]
    }
   ],
   "source": [
    "arr2D = np.array([[1, 2, 3, 4], \n",
    "                  [5, 6, 7, 8]])\n",
    "\n",
    "# Splitting along columns (axis=1)\n",
    "print(\"Split along columns:\", np.hsplit(arr2D, 2))\n",
    "\n",
    "# Splitting along rows (axis=0)\n",
    "print(\"Split along rows:\", np.vsplit(arr2D, 2))\n"
   ]
  },
  {
   "cell_type": "markdown",
   "metadata": {},
   "source": [
    "#### Generating Random Integers (randint)"
   ]
  },
  {
   "cell_type": "code",
   "execution_count": 27,
   "metadata": {},
   "outputs": [
    {
     "name": "stdout",
     "output_type": "stream",
     "text": [
      "Random Integer: 45\n",
      "Random Array: [71 50 12 18 15]\n",
      "Random 2D Array:\n",
      " [[78 40 12]\n",
      " [75  3 59]\n",
      " [62 70 74]]\n"
     ]
    }
   ],
   "source": [
    "import numpy as np  \n",
    "\n",
    "# Generate a single random integer between 1 and 100\n",
    "rand_int = np.random.randint(1, 100)\n",
    "print(\"Random Integer:\", rand_int)\n",
    "\n",
    "# Generate an array of 5 random integers between 1 and 100\n",
    "rand_array = np.random.randint(1, 100, size=5)\n",
    "print(\"Random Array:\", rand_array)\n",
    "\n",
    "# Generate a 2D array of random integers\n",
    "rand_2D = np.random.randint(1, 100, size=(3, 3))\n",
    "print(\"Random 2D Array:\\n\", rand_2D)\n"
   ]
  },
  {
   "cell_type": "markdown",
   "metadata": {},
   "source": [
    "#### Generating Random Floating-Point Numbers (rand, randn)\n"
   ]
  },
  {
   "cell_type": "markdown",
   "metadata": {},
   "source": [
    "#### rand() – Uniform Distribution (0 to 1)"
   ]
  },
  {
   "cell_type": "code",
   "execution_count": 28,
   "metadata": {},
   "outputs": [
    {
     "name": "stdout",
     "output_type": "stream",
     "text": [
      "Single Random Float: 0.014063434107818074\n",
      "\n",
      "3x3 Random Float Array:\n",
      " [[0.44978667 0.91261882 0.56211768]\n",
      " [0.83899321 0.65776808 0.79809983]\n",
      " [0.94481927 0.20481955 0.5512151 ]]\n"
     ]
    }
   ],
   "source": [
    "rand_float = np.random.rand()  # Single random float\n",
    "rand_floats = np.random.rand(3, 3)  # 3x3 array of random floats\n",
    "\n",
    "print(\"Single Random Float:\", rand_float)\n",
    "print(\"\\n3x3 Random Float Array:\\n\", rand_floats)\n"
   ]
  },
  {
   "cell_type": "markdown",
   "metadata": {},
   "source": [
    "#### randn() – Standard Normal Distribution (Mean = 0, Std Dev = 1)"
   ]
  },
  {
   "cell_type": "code",
   "execution_count": 30,
   "metadata": {},
   "outputs": [
    {
     "name": "stdout",
     "output_type": "stream",
     "text": [
      "Random Normal Distribution Array:\n",
      " [[-0.00557609  1.65540207  0.71649616]\n",
      " [-0.43645492 -0.91707071 -1.19906368]\n",
      " [ 0.35253609  0.37815014  0.85624511]]\n"
     ]
    }
   ],
   "source": [
    "rand_norm = np.random.randn(3, 3)  # 3x3 matrix of normally distributed numbers\n",
    "print(\"Random Normal Distribution Array:\\n\", rand_norm)\n",
    "# Generates random numbers from a normal (Gaussian) distribution."
   ]
  },
  {
   "cell_type": "markdown",
   "metadata": {},
   "source": [
    "#### Setting a Random Seed for Reproducibility"
   ]
  },
  {
   "cell_type": "code",
   "execution_count": 34,
   "metadata": {},
   "outputs": [
    {
     "name": "stdout",
     "output_type": "stream",
     "text": [
      "Random numbers with seed:\n",
      "[[0.37454012 0.95071431 0.73199394]\n",
      " [0.59865848 0.15601864 0.15599452]\n",
      " [0.05808361 0.86617615 0.60111501]]\n"
     ]
    }
   ],
   "source": [
    "np.random.seed(42)  # Setting seed for reproducibility\n",
    "\n",
    "print(\"Random numbers with seed:\")\n",
    "print(np.random.rand(3, 3))  # Generates the same numbers every time\n"
   ]
  },
  {
   "cell_type": "markdown",
   "metadata": {},
   "source": [
    "### Randomly Shuffling & Choosing Elements"
   ]
  },
  {
   "cell_type": "markdown",
   "metadata": {},
   "source": [
    "#### shuffle() – Shuffle an Array (Modifies Original)"
   ]
  },
  {
   "cell_type": "code",
   "execution_count": 36,
   "metadata": {},
   "outputs": [
    {
     "name": "stdout",
     "output_type": "stream",
     "text": [
      "Shuffled Array: [1 3 5 2 4]\n"
     ]
    }
   ],
   "source": [
    "arr = np.array([1, 2, 3, 4, 5])\n",
    "np.random.shuffle(arr)  # Shuffles in-place\n",
    "print(\"Shuffled Array:\", arr)\n"
   ]
  },
  {
   "cell_type": "markdown",
   "metadata": {},
   "source": [
    "#### choice() – Randomly Pick Elements"
   ]
  },
  {
   "cell_type": "code",
   "execution_count": 42,
   "metadata": {},
   "outputs": [
    {
     "name": "stdout",
     "output_type": "stream",
     "text": [
      "Random Pick: 30\n",
      "Random Picks: [50 10 20]\n"
     ]
    }
   ],
   "source": [
    "arr = np.array([10, 20, 30, 40, 50])\n",
    "\n",
    "# Pick one random element\n",
    "rand_pick = np.random.choice(arr)\n",
    "print(\"Random Pick:\", rand_pick)\n",
    "\n",
    "# Pick 3 random elements with replacement\n",
    "rand_picks = np.random.choice(arr, size=3, replace=True)\n",
    "print(\"Random Picks:\", rand_picks)\n"
   ]
  },
  {
   "cell_type": "markdown",
   "metadata": {},
   "source": [
    "#### Representing Missing Data in NumPy\n",
    "NumPy does not have built-in NaN (Not a Number) values for integer arrays. However, it does support NaN for floating-point arrays."
   ]
  },
  {
   "cell_type": "code",
   "execution_count": 43,
   "metadata": {},
   "outputs": [
    {
     "name": "stdout",
     "output_type": "stream",
     "text": [
      "Array with NaN values: [ 1.  2. nan  4.  5.]\n"
     ]
    }
   ],
   "source": [
    "import numpy as np  \n",
    "\n",
    "# Creating an array with NaN values\n",
    "arr = np.array([1, 2, np.nan, 4, 5])\n",
    "\n",
    "print(\"Array with NaN values:\", arr)\n"
   ]
  },
  {
   "cell_type": "markdown",
   "metadata": {},
   "source": [
    "#### Checking for Missing Values (isnan)"
   ]
  },
  {
   "cell_type": "code",
   "execution_count": 45,
   "metadata": {},
   "outputs": [
    {
     "name": "stdout",
     "output_type": "stream",
     "text": [
      "NaN Mask: [False False  True  True False]\n",
      "Number of Missing Values: 2\n"
     ]
    }
   ],
   "source": [
    "arr = np.array([1, 2, np.nan, np.nan, 5])\n",
    "\n",
    "# Checking for NaN values\n",
    "mask = np.isnan(arr)\n",
    "print(\"NaN Mask:\", mask)\n",
    "\n",
    "# Counting missing values\n",
    "num_missing = np.sum(mask)\n",
    "print(\"Number of Missing Values:\", num_missing)\n"
   ]
  },
  {
   "cell_type": "markdown",
   "metadata": {},
   "source": [
    "#### Removing Missing Values (~isnan())"
   ]
  },
  {
   "cell_type": "code",
   "execution_count": 46,
   "metadata": {},
   "outputs": [
    {
     "name": "stdout",
     "output_type": "stream",
     "text": [
      "Array without NaN values: [1. 2. 5.]\n"
     ]
    }
   ],
   "source": [
    "clean_arr = arr[~np.isnan(arr)]\n",
    "print(\"Array without NaN values:\", clean_arr)\n"
   ]
  },
  {
   "cell_type": "markdown",
   "metadata": {},
   "source": [
    "#### Replacing Missing Values (nan_to_num)"
   ]
  },
  {
   "cell_type": "code",
   "execution_count": 47,
   "metadata": {},
   "outputs": [
    {
     "name": "stdout",
     "output_type": "stream",
     "text": [
      "Array with NaN replaced by 0: [1. 2. 0. 0. 5.]\n"
     ]
    }
   ],
   "source": [
    "arr_filled = np.nan_to_num(arr, nan=0)\n",
    "print(\"Array with NaN replaced by 0:\", arr_filled)\n"
   ]
  },
  {
   "cell_type": "markdown",
   "metadata": {},
   "source": [
    "#### Handling Infinity (inf) in NumPy"
   ]
  },
  {
   "cell_type": "code",
   "execution_count": 48,
   "metadata": {},
   "outputs": [
    {
     "name": "stdout",
     "output_type": "stream",
     "text": [
      "Is Infinite: [False False  True  True False]\n",
      "Fixed Array: [    1.     2.  1000. -1000.     5.]\n"
     ]
    }
   ],
   "source": [
    "arr_inf = np.array([1, 2, np.inf, -np.inf, 5])\n",
    "\n",
    "# Checking for infinity\n",
    "print(\"Is Infinite:\", np.isinf(arr_inf))\n",
    "\n",
    "# Replacing infinity with a large number\n",
    "arr_fixed = np.nan_to_num(arr_inf, posinf=1000, neginf=-1000)\n",
    "print(\"Fixed Array:\", arr_fixed)\n"
   ]
  },
  {
   "cell_type": "markdown",
   "metadata": {},
   "source": [
    "### What is Broadcasting?\n",
    "Normally, operations require arrays to have the same shape.\n",
    "🔹 Broadcasting allows operations between arrays of different shapes without manual resizing."
   ]
  },
  {
   "cell_type": "markdown",
   "metadata": {},
   "source": [
    "##### Example: Adding a single number to an array:"
   ]
  },
  {
   "cell_type": "code",
   "execution_count": 49,
   "metadata": {},
   "outputs": [
    {
     "name": "stdout",
     "output_type": "stream",
     "text": [
      "Original Array: [1 2 3]\n",
      "After Broadcasting: [11 12 13]\n"
     ]
    }
   ],
   "source": [
    "import numpy as np  \n",
    "\n",
    "arr = np.array([1, 2, 3])\n",
    "result = arr + 10  # Broadcasts 10 to all elements\n",
    "\n",
    "print(\"Original Array:\", arr)\n",
    "print(\"After Broadcasting:\", result)\n"
   ]
  },
  {
   "cell_type": "markdown",
   "metadata": {},
   "source": [
    "#### Adding a 1D Array to a 2D Array\n"
   ]
  },
  {
   "cell_type": "code",
   "execution_count": 50,
   "metadata": {},
   "outputs": [
    {
     "name": "stdout",
     "output_type": "stream",
     "text": [
      "Original 2D Array:\n",
      " [[1 2 3]\n",
      " [4 5 6]]\n",
      "1D Array: [10 20 30]\n",
      "\n",
      "After Broadcasting:\n",
      " [[11 22 33]\n",
      " [14 25 36]]\n"
     ]
    }
   ],
   "source": [
    "arr_2D = np.array([[1, 2, 3], \n",
    "                   [4, 5, 6]])\n",
    "\n",
    "arr_1D = np.array([10, 20, 30])\n",
    "\n",
    "# Broadcasting the 1D array across rows\n",
    "result = arr_2D + arr_1D  \n",
    "\n",
    "print(\"Original 2D Array:\\n\", arr_2D)\n",
    "print(\"1D Array:\", arr_1D)\n",
    "print(\"\\nAfter Broadcasting:\\n\", result)\n"
   ]
  },
  {
   "cell_type": "markdown",
   "metadata": {},
   "source": [
    "#### Broadcasting with Different Shapes"
   ]
  },
  {
   "cell_type": "code",
   "execution_count": 51,
   "metadata": {},
   "outputs": [
    {
     "name": "stdout",
     "output_type": "stream",
     "text": [
      "Array 1 Shape: (3, 1)\n",
      "Array 2 Shape: (3,)\n",
      "\n",
      "After Broadcasting:\n",
      " [[11 21 31]\n",
      " [12 22 32]\n",
      " [13 23 33]]\n"
     ]
    }
   ],
   "source": [
    "arr1 = np.array([[1], [2], [3]])  # Shape (3,1)\n",
    "arr2 = np.array([10, 20, 30])  # Shape (1,3)\n",
    "\n",
    "# Broadcasting\n",
    "result = arr1 + arr2  \n",
    "\n",
    "print(\"Array 1 Shape:\", arr1.shape)\n",
    "print(\"Array 2 Shape:\", arr2.shape)\n",
    "print(\"\\nAfter Broadcasting:\\n\", result)\n"
   ]
  },
  {
   "cell_type": "markdown",
   "metadata": {},
   "source": [
    "#### When Broadcasting Fails\n",
    "If the shapes are incompatible, NumPy raises an error."
   ]
  },
  {
   "cell_type": "code",
   "execution_count": 52,
   "metadata": {},
   "outputs": [
    {
     "ename": "ValueError",
     "evalue": "operands could not be broadcast together with shapes (2,2) (3,) ",
     "output_type": "error",
     "traceback": [
      "\u001b[31m---------------------------------------------------------------------------\u001b[39m",
      "\u001b[31mValueError\u001b[39m                                Traceback (most recent call last)",
      "\u001b[36mCell\u001b[39m\u001b[36m \u001b[39m\u001b[32mIn[52]\u001b[39m\u001b[32m, line 5\u001b[39m\n\u001b[32m      2\u001b[39m arr2 = np.array([\u001b[32m10\u001b[39m, \u001b[32m20\u001b[39m, \u001b[32m30\u001b[39m])  \u001b[38;5;66;03m# Shape (3,)\u001b[39;00m\n\u001b[32m      4\u001b[39m \u001b[38;5;66;03m# This will cause a broadcasting error!\u001b[39;00m\n\u001b[32m----> \u001b[39m\u001b[32m5\u001b[39m result = \u001b[43marr1\u001b[49m\u001b[43m \u001b[49m\u001b[43m+\u001b[49m\u001b[43m \u001b[49m\u001b[43marr2\u001b[49m\n",
      "\u001b[31mValueError\u001b[39m: operands could not be broadcast together with shapes (2,2) (3,) "
     ]
    }
   ],
   "source": [
    "arr1 = np.array([[1, 2], [3, 4]])  # Shape (2,2)\n",
    "arr2 = np.array([10, 20, 30])  # Shape (3,)\n",
    "\n",
    "# This will cause a broadcasting error!\n",
    "result = arr1 + arr2\n"
   ]
  },
  {
   "cell_type": "markdown",
   "metadata": {},
   "source": [
    "#### What is Memory Layout?\n",
    "NumPy stores multi-dimensional arrays as a continuous block of memory.\n",
    "There are two ways to store a 2D array in memory:\n",
    "\n",
    "Row-Major (C-order):Stores row elements next to each other\tFaster row-wise operations\n",
    "\n",
    "Column-Major (F-order):Stores column elements next to each other\tFaster column-wise operations\n"
   ]
  },
  {
   "cell_type": "code",
   "execution_count": 53,
   "metadata": {},
   "outputs": [
    {
     "name": "stdout",
     "output_type": "stream",
     "text": [
      "Memory Layout (C-order): True\n",
      "Memory Layout (F-order): False\n"
     ]
    }
   ],
   "source": [
    "import numpy as np  \n",
    "\n",
    "# Creating a 2D array\n",
    "arr = np.array([[1, 2, 3], \n",
    "                [4, 5, 6], \n",
    "                [7, 8, 9]])\n",
    "\n",
    "# Checking the memory layout\n",
    "print(\"Memory Layout (C-order):\", arr.flags['C_CONTIGUOUS'])  # True\n",
    "print(\"Memory Layout (F-order):\", arr.flags['F_CONTIGUOUS'])  # False\n"
   ]
  },
  {
   "cell_type": "markdown",
   "metadata": {},
   "source": [
    "#### Changing the Memory Layout"
   ]
  },
  {
   "cell_type": "code",
   "execution_count": 54,
   "metadata": {},
   "outputs": [
    {
     "name": "stdout",
     "output_type": "stream",
     "text": [
      "Is C-order?: False\n",
      "Is F-order?: True\n"
     ]
    }
   ],
   "source": [
    "# Creating an array in Fortran (column-major) order\n",
    "arr_f = np.array([[1, 2, 3], [4, 5, 6]], order='F')\n",
    "\n",
    "print(\"Is C-order?:\", arr_f.flags['C_CONTIGUOUS'])  # False\n",
    "print(\"Is F-order?:\", arr_f.flags['F_CONTIGUOUS'])  # True\n"
   ]
  },
  {
   "cell_type": "markdown",
   "metadata": {},
   "source": [
    "#### Effect of Memory Order on Performance\n",
    "To see how memory layout affects speed, we will measure row-wise vs. column-wise access.\n"
   ]
  },
  {
   "cell_type": "code",
   "execution_count": 55,
   "metadata": {},
   "outputs": [
    {
     "name": "stdout",
     "output_type": "stream",
     "text": [
      "Row-wise sum time: 0.19272804260253906\n",
      "Column-wise sum time: 0.2810349464416504\n"
     ]
    }
   ],
   "source": [
    "import time  \n",
    "\n",
    "arr = np.random.rand(10000, 10000)  # Large array\n",
    "\n",
    "# Row-wise access (C-order)\n",
    "start = time.time()\n",
    "for row in arr:\n",
    "    row.sum()\n",
    "end = time.time()\n",
    "print(\"Row-wise sum time:\", end - start)\n",
    "\n",
    "# Column-wise access (Fortran order)\n",
    "start = time.time()\n",
    "for col in arr.T:\n",
    "    col.sum()\n",
    "end = time.time()\n",
    "print(\"Column-wise sum time:\", end - start)\n"
   ]
  }
 ],
 "metadata": {
  "kernelspec": {
   "display_name": ".venv",
   "language": "python",
   "name": "python3"
  },
  "language_info": {
   "codemirror_mode": {
    "name": "ipython",
    "version": 3
   },
   "file_extension": ".py",
   "mimetype": "text/x-python",
   "name": "python",
   "nbconvert_exporter": "python",
   "pygments_lexer": "ipython3",
   "version": "3.12.1"
  }
 },
 "nbformat": 4,
 "nbformat_minor": 2
}
