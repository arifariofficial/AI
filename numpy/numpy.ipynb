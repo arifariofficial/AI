{
 "cells": [
  {
   "cell_type": "code",
   "execution_count": 2,
   "metadata": {},
   "outputs": [
    {
     "name": "stdout",
     "output_type": "stream",
     "text": [
      "array:  [1 2 3 4 5]\n",
      "Type:  <class 'numpy.ndarray'>\n"
     ]
    }
   ],
   "source": [
    "import numpy as np\n",
    "\n",
    "arr = np.array([1, 2, 3, 4, 5])\n",
    "\n",
    "print(\"array: \", arr)\n",
    "print(\"Type: \", type(arr))"
   ]
  },
  {
   "cell_type": "code",
   "execution_count": 3,
   "metadata": {},
   "outputs": [
    {
     "name": "stdout",
     "output_type": "stream",
     "text": [
      "Array:\n",
      " [[10 20 30]\n",
      " [40 50 60]]\n",
      "\n",
      "Number of dimensions: 2\n",
      "Shape of array: (2, 3)\n",
      "Total number of elements: 6\n",
      "Data type: int64\n",
      "Size of each element (bytes): 8\n",
      "Total memory usage (bytes): 48\n"
     ]
    }
   ],
   "source": [
    "import numpy as np  \n",
    "\n",
    "# Creating a 2D array\n",
    "arr = np.array([[10, 20, 30], [40, 50, 60]])\n",
    "\n",
    "# Checking attributes\n",
    "print(\"Array:\\n\", arr)\n",
    "print(\"\\nNumber of dimensions:\", arr.ndim)  # Should print 2\n",
    "print(\"Shape of array:\", arr.shape)        # (rows, columns)\n",
    "print(\"Total number of elements:\", arr.size)  \n",
    "print(\"Data type:\", arr.dtype)  \n",
    "print(\"Size of each element (bytes):\", arr.itemsize)  \n",
    "print(\"Total memory usage (bytes):\", arr.nbytes)  \n"
   ]
  },
  {
   "cell_type": "markdown",
   "metadata": {},
   "source": [
    "#### Indexing in 1D Arrays"
   ]
  },
  {
   "cell_type": "code",
   "execution_count": 4,
   "metadata": {},
   "outputs": [
    {
     "name": "stdout",
     "output_type": "stream",
     "text": [
      "First element: 10\n",
      "Last element: 50\n",
      "Second element: 20\n"
     ]
    }
   ],
   "source": [
    "# Creating a 1D array\n",
    "arr = np.array([10, 20, 30, 40, 50])\n",
    "\n",
    "# Accessing elements\n",
    "print(\"First element:\", arr[0])   # 10\n",
    "print(\"Last element:\", arr[-1])   # 50\n",
    "print(\"Second element:\", arr[1])  # 20"
   ]
  },
  {
   "cell_type": "markdown",
   "metadata": {},
   "source": [
    "#### Indexing in 2D Arrays (Matrices)"
   ]
  },
  {
   "cell_type": "code",
   "execution_count": 5,
   "metadata": {},
   "outputs": [
    {
     "name": "stdout",
     "output_type": "stream",
     "text": [
      "Element at row 1, col 2: 2\n",
      "Element at row 3, col 3: 9\n"
     ]
    }
   ],
   "source": [
    "# Creating a 2D array\n",
    "arr2D = np.array([[1, 2, 3], \n",
    "                  [4, 5, 6], \n",
    "                  [7, 8, 9]])\n",
    "\n",
    "# Accessing elements\n",
    "print(\"Element at row 1, col 2:\", arr2D[0, 1])  # 2\n",
    "print(\"Element at row 3, col 3:\", arr2D[2, 2])  # 9\n"
   ]
  },
  {
   "cell_type": "markdown",
   "metadata": {},
   "source": [
    "#### Slicing NumPy Arrays"
   ]
  },
  {
   "cell_type": "code",
   "execution_count": 6,
   "metadata": {},
   "outputs": [
    {
     "name": "stdout",
     "output_type": "stream",
     "text": [
      "Elements from index 1 to 3: [20 30 40]\n",
      "Every second element: [10 30 50]\n",
      "First two rows:\n",
      " [[1 2 3]\n",
      " [4 5 6]]\n",
      "First two columns:\n",
      " [[1 2]\n",
      " [4 5]\n",
      " [7 8]]\n"
     ]
    }
   ],
   "source": [
    "# 1D Array Slicing\n",
    "arr = np.array([10, 20, 30, 40, 50])\n",
    "print(\"Elements from index 1 to 3:\", arr[1:4])  # [20, 30, 40]\n",
    "print(\"Every second element:\", arr[::2])        # [10, 30, 50]\n",
    "\n",
    "# 2D Array Slicing\n",
    "arr2D = np.array([[1, 2, 3], \n",
    "                  [4, 5, 6], \n",
    "                  [7, 8, 9]])\n",
    "\n",
    "print(\"First two rows:\\n\", arr2D[:2, :])   # First two rows\n",
    "print(\"First two columns:\\n\", arr2D[:, :2])  # First two columns\n"
   ]
  },
  {
   "cell_type": "markdown",
   "metadata": {},
   "source": [
    "#### Reshaping Arrays"
   ]
  },
  {
   "cell_type": "code",
   "execution_count": 7,
   "metadata": {},
   "outputs": [
    {
     "name": "stdout",
     "output_type": "stream",
     "text": [
      "Original Array:\n",
      " [1 2 3 4 5 6]\n",
      "\n",
      "Reshaped Array (2x3):\n",
      " [[1 2 3]\n",
      " [4 5 6]]\n"
     ]
    }
   ],
   "source": [
    "# Creating a 1D array\n",
    "arr = np.array([1, 2, 3, 4, 5, 6])\n",
    "\n",
    "# Reshaping into 2 rows and 3 columns\n",
    "reshaped_arr = arr.reshape(2, 3)\n",
    "\n",
    "print(\"Original Array:\\n\", arr)\n",
    "print(\"\\nReshaped Array (2x3):\\n\", reshaped_arr)"
   ]
  },
  {
   "cell_type": "markdown",
   "metadata": {},
   "source": [
    "#### Using -1 in Reshaping"
   ]
  },
  {
   "cell_type": "code",
   "execution_count": 8,
   "metadata": {},
   "outputs": [
    {
     "name": "stdout",
     "output_type": "stream",
     "text": [
      "Reshaped using -1:\n",
      " [[1 2 3]\n",
      " [4 5 6]]\n"
     ]
    }
   ],
   "source": [
    "arr = np.array([1, 2, 3, 4, 5, 6])\n",
    "\n",
    "# Let NumPy calculate the correct number of columns\n",
    "reshaped_arr = arr.reshape(2, -1)  # 2 rows, auto column calculation\n",
    "\n",
    "print(\"Reshaped using -1:\\n\", reshaped_arr)\n"
   ]
  },
  {
   "cell_type": "markdown",
   "metadata": {},
   "source": [
    "#### Flattening an Array"
   ]
  },
  {
   "cell_type": "code",
   "execution_count": 10,
   "metadata": {},
   "outputs": [
    {
     "name": "stdout",
     "output_type": "stream",
     "text": [
      "Original 2D Array:\n",
      " [[1 2 3]\n",
      " [4 5 6]]\n",
      "\n",
      "Flattened Array:\n",
      " [1 2 3 4 5 6]\n"
     ]
    }
   ],
   "source": [
    "arr2D = np.array([[1, 2, 3], [4, 5, 6]])\n",
    "\n",
    "# Flatten using ravel()\n",
    "flattened = arr2D.ravel()  # returns a copy of the original array\n",
    "\n",
    "print(\"Original 2D Array:\\n\", arr2D)\n",
    "print(\"\\nFlattened Array:\\n\", flattened)\n"
   ]
  },
  {
   "cell_type": "markdown",
   "metadata": {},
   "source": [
    "#### Element-wise Arithmetic Operations"
   ]
  },
  {
   "cell_type": "code",
   "execution_count": 11,
   "metadata": {},
   "outputs": [
    {
     "name": "stdout",
     "output_type": "stream",
     "text": [
      "Addition: [11 22 33 44]\n",
      "Subtraction: [ -9 -18 -27 -36]\n",
      "Multiplication: [ 10  40  90 160]\n",
      "Division: [0.1 0.1 0.1 0.1]\n",
      "Power: [ 1  4  9 16]\n"
     ]
    }
   ],
   "source": [
    "# Creating two arrays\n",
    "arr1 = np.array([1, 2, 3, 4])\n",
    "arr2 = np.array([10, 20, 30, 40])\n",
    "\n",
    "# Element-wise operations\n",
    "print(\"Addition:\", arr1 + arr2)  # [11 22 33 44]\n",
    "print(\"Subtraction:\", arr1 - arr2)  # [-9 -18 -27 -36]\n",
    "print(\"Multiplication:\", arr1 * arr2)  # [10 40 90 160]\n",
    "print(\"Division:\", arr1 / arr2)  # [0.1 0.1 0.1 0.1]\n",
    "print(\"Power:\", arr1 ** 2)  # [1 4 9 16]"
   ]
  },
  {
   "cell_type": "markdown",
   "metadata": {},
   "source": [
    "#### Using NumPy's Universal Functions"
   ]
  },
  {
   "cell_type": "code",
   "execution_count": 12,
   "metadata": {},
   "outputs": [
    {
     "name": "stdout",
     "output_type": "stream",
     "text": [
      "Square Root: [1.         1.41421356 1.73205081 2.         2.23606798]\n",
      "Exponential (e^x): [  2.71828183   7.3890561   20.08553692  54.59815003 148.4131591 ]\n",
      "Natural Logarithm: [0.         0.69314718 1.09861229 1.38629436 1.60943791]\n",
      "Sine values: [ 0.84147098  0.90929743  0.14112001 -0.7568025  -0.95892427]\n",
      "Cosine values: [ 0.54030231 -0.41614684 -0.9899925  -0.65364362  0.28366219]\n"
     ]
    }
   ],
   "source": [
    "arr = np.array([1, 2, 3, 4, 5])\n",
    "\n",
    "# Applying universal functions\n",
    "print(\"Square Root:\", np.sqrt(arr))  \n",
    "print(\"Exponential (e^x):\", np.exp(arr))  \n",
    "print(\"Natural Logarithm:\", np.log(arr))  \n",
    "print(\"Sine values:\", np.sin(arr))  \n",
    "print(\"Cosine values:\", np.cos(arr))  \n"
   ]
  },
  {
   "cell_type": "markdown",
   "metadata": {},
   "source": [
    "#### Basic Aggregation Functions"
   ]
  },
  {
   "cell_type": "code",
   "execution_count": 13,
   "metadata": {},
   "outputs": [
    {
     "name": "stdout",
     "output_type": "stream",
     "text": [
      "Sum: 150\n",
      "Mean (Average): 30.0\n",
      "Minimum: 10\n",
      "Maximum: 50\n",
      "Standard Deviation: 14.142135623730951\n",
      "Variance: 200.0\n"
     ]
    }
   ],
   "source": [
    "# Creating an array\n",
    "arr = np.array([10, 20, 30, 40, 50])\n",
    "\n",
    "# Aggregation operations\n",
    "print(\"Sum:\", np.sum(arr))         # 150\n",
    "print(\"Mean (Average):\", np.mean(arr))   # 30.0\n",
    "print(\"Minimum:\", np.min(arr))     # 10\n",
    "print(\"Maximum:\", np.max(arr))     # 50\n",
    "print(\"Standard Deviation:\", np.std(arr))  # 14.14\n",
    "print(\"Variance:\", np.var(arr))    # 200.0"
   ]
  },
  {
   "cell_type": "markdown",
   "metadata": {},
   "source": [
    "#### Aggregations on Multi-Dimensional Arrays"
   ]
  },
  {
   "cell_type": "code",
   "execution_count": 15,
   "metadata": {},
   "outputs": [
    {
     "name": "stdout",
     "output_type": "stream",
     "text": [
      "Column-wise Sum (axis=0): [12 15 18]\n",
      "Row-wise Sum (axis=1): [ 6 15 24]\n"
     ]
    }
   ],
   "source": [
    "# Creating a 2D array\n",
    "arr2D = np.array([[1, 2, 3], \n",
    "                  [4, 5, 6], \n",
    "                  [7, 8, 9]])\n",
    "\n",
    "# Aggregation operations along axis\n",
    "print(\"Column-wise Sum (axis=0):\", np.sum(arr2D, axis=0))  # [12 15 18]\n",
    "print(\"Row-wise Sum (axis=1):\", np.sum(arr2D, axis=1))  # [6 15 24]\n",
    "\n",
    "# axis=0 means sum each column\n",
    "# axis=1 means sum each row"
   ]
  },
  {
   "cell_type": "markdown",
   "metadata": {},
   "source": [
    "#### Sorting NumPy Arrays"
   ]
  },
  {
   "cell_type": "code",
   "execution_count": 16,
   "metadata": {},
   "outputs": [
    {
     "name": "stdout",
     "output_type": "stream",
     "text": [
      "Original Array: [40 10 30 20 50]\n",
      "Sorted Array: [10 20 30 40 50]\n"
     ]
    }
   ],
   "source": [
    "# Creating an array\n",
    "arr = np.array([40, 10, 30, 20, 50])\n",
    "\n",
    "# Sorting the array\n",
    "sorted_arr = np.sort(arr)\n",
    "\n",
    "print(\"Original Array:\", arr)\n",
    "print(\"Sorted Array:\", sorted_arr)"
   ]
  },
  {
   "cell_type": "markdown",
   "metadata": {},
   "source": [
    "#### Sorting a 2D Array"
   ]
  },
  {
   "cell_type": "code",
   "execution_count": 17,
   "metadata": {},
   "outputs": [
    {
     "name": "stdout",
     "output_type": "stream",
     "text": [
      "Row-wise Sorted:\n",
      " [[1 2 3]\n",
      " [6 7 9]\n",
      " [4 5 8]]\n",
      "Column-wise Sorted:\n",
      " [[3 1 2]\n",
      " [4 5 7]\n",
      " [9 6 8]]\n"
     ]
    }
   ],
   "source": [
    "arr2D = np.array([[3, 1, 2], \n",
    "                  [9, 6, 7], \n",
    "                  [4, 5, 8]])\n",
    "\n",
    "# Sorting along rows (axis=1)\n",
    "print(\"Row-wise Sorted:\\n\", np.sort(arr2D, axis=1))\n",
    "\n",
    "# Sorting along columns (axis=0)\n",
    "print(\"Column-wise Sorted:\\n\", np.sort(arr2D, axis=0))\n"
   ]
  },
  {
   "cell_type": "markdown",
   "metadata": {},
   "source": [
    "#### Filtering NumPy Arrays using Boolean Masking"
   ]
  },
  {
   "cell_type": "code",
   "execution_count": 18,
   "metadata": {},
   "outputs": [
    {
     "name": "stdout",
     "output_type": "stream",
     "text": [
      "Boolean Mask: [False False  True  True  True]\n",
      "Filtered Array: [30 40 50]\n"
     ]
    }
   ],
   "source": [
    "# Creating an array\n",
    "arr = np.array([10, 20, 30, 40, 50])\n",
    "\n",
    "# Creating a boolean mask (condition: values > 25)\n",
    "mask = arr > 25\n",
    "\n",
    "# Applying the mask to filter values\n",
    "filtered_arr = arr[mask]\n",
    "\n",
    "print(\"Boolean Mask:\", mask)  # [False False  True  True  True]\n",
    "print(\"Filtered Array:\", filtered_arr)  # [30 40 50]\n"
   ]
  },
  {
   "cell_type": "markdown",
   "metadata": {},
   "source": [
    "#### Fancy Indexing (Selecting Specific Elements)"
   ]
  },
  {
   "cell_type": "code",
   "execution_count": 19,
   "metadata": {},
   "outputs": [
    {
     "name": "stdout",
     "output_type": "stream",
     "text": [
      "Selected Elements: [20 40 50]\n"
     ]
    }
   ],
   "source": [
    "arr = np.array([10, 20, 30, 40, 50])\n",
    "\n",
    "# Selecting elements at positions 1, 3, and 4\n",
    "selected = arr[[1, 3, 4]]\n",
    "\n",
    "print(\"Selected Elements:\", selected)  # [20 40 50]\n"
   ]
  },
  {
   "cell_type": "markdown",
   "metadata": {},
   "source": [
    "#### Checking If an Array is a Copy or a View"
   ]
  },
  {
   "cell_type": "code",
   "execution_count": 20,
   "metadata": {},
   "outputs": [
    {
     "name": "stdout",
     "output_type": "stream",
     "text": [
      "View base: [1 2 3 4]\n",
      "Copy base: None\n"
     ]
    }
   ],
   "source": [
    "arr = np.array([1, 2, 3, 4])\n",
    "\n",
    "view_arr = arr.view()\n",
    "copy_arr = arr.copy()\n",
    "\n",
    "print(\"View base:\", view_arr.base)  # Shows the original array\n",
    "print(\"Copy base:\", copy_arr.base)  # None (independent copy)\n"
   ]
  },
  {
   "cell_type": "markdown",
   "metadata": {},
   "source": [
    "#### Stacking NumPy Arrays (Joining Multiple Arrays)"
   ]
  },
  {
   "cell_type": "markdown",
   "metadata": {},
   "source": [
    "#### Vertical Stacking (vstack)"
   ]
  },
  {
   "cell_type": "code",
   "execution_count": 21,
   "metadata": {},
   "outputs": [
    {
     "name": "stdout",
     "output_type": "stream",
     "text": [
      "Vertical Stack:\n",
      " [[1 2]\n",
      " [3 4]\n",
      " [5 6]\n",
      " [7 8]]\n"
     ]
    }
   ],
   "source": [
    "arr1 = np.array([[1, 2], [3, 4]])\n",
    "arr2 = np.array([[5, 6], [7, 8]])\n",
    "\n",
    "# Stacking vertically\n",
    "result = np.vstack((arr1, arr2))\n",
    "\n",
    "print(\"Vertical Stack:\\n\", result)"
   ]
  },
  {
   "cell_type": "markdown",
   "metadata": {},
   "source": [
    "#### Horizontal Stacking (hstack)"
   ]
  },
  {
   "cell_type": "code",
   "execution_count": 22,
   "metadata": {},
   "outputs": [
    {
     "name": "stdout",
     "output_type": "stream",
     "text": [
      "Horizontal Stack:\n",
      " [[1 2 5 6]\n",
      " [3 4 7 8]]\n"
     ]
    }
   ],
   "source": [
    "result = np.hstack((arr1, arr2))\n",
    "print(\"Horizontal Stack:\\n\", result)\n"
   ]
  },
  {
   "cell_type": "markdown",
   "metadata": {},
   "source": [
    "#### Column & Row Stacking (column_stack & row_stack)"
   ]
  },
  {
   "cell_type": "code",
   "execution_count": 24,
   "metadata": {},
   "outputs": [
    {
     "name": "stdout",
     "output_type": "stream",
     "text": [
      "Column Stack:\n",
      " [[1 4]\n",
      " [2 5]\n",
      " [3 6]]\n",
      "Row Stack:\n",
      " [[1 2 3]\n",
      " [4 5 6]]\n"
     ]
    },
    {
     "name": "stderr",
     "output_type": "stream",
     "text": [
      "/var/folders/r9/3w7hxnm53t34_s8nmmbf0tlc0000gn/T/ipykernel_34088/836325212.py:8: DeprecationWarning: `row_stack` alias is deprecated. Use `np.vstack` directly.\n",
      "  print(\"Row Stack:\\n\", np.row_stack((arr1D_1, arr1D_2)))\n"
     ]
    }
   ],
   "source": [
    "arr1D_1 = np.array([1, 2, 3])\n",
    "arr1D_2 = np.array([4, 5, 6])\n",
    "\n",
    "# Column-wise stacking (Converts 1D arrays into 2D column vectors)\n",
    "print(\"Column Stack:\\n\", np.column_stack((arr1D_1, arr1D_2)))\n",
    "\n",
    "# Row-wise stacking (Simply stacks like hstack)\n",
    "print(\"Row Stack:\\n\", np.row_stack((arr1D_1, arr1D_2)))\n"
   ]
  },
  {
   "cell_type": "markdown",
   "metadata": {},
   "source": [
    "#### Splitting NumPy Arrays (Dividing into Smaller Arrays)"
   ]
  },
  {
   "cell_type": "markdown",
   "metadata": {},
   "source": [
    "#### Splitting a 1D Array"
   ]
  },
  {
   "cell_type": "code",
   "execution_count": 25,
   "metadata": {},
   "outputs": [
    {
     "name": "stdout",
     "output_type": "stream",
     "text": [
      "Splitted Arrays: [array([10, 20]), array([30, 40]), array([50, 60])]\n"
     ]
    }
   ],
   "source": [
    "arr = np.array([10, 20, 30, 40, 50, 60])\n",
    "\n",
    "# Splitting into 3 equal parts\n",
    "split_arrays = np.split(arr, 3)\n",
    "\n",
    "print(\"Splitted Arrays:\", split_arrays)\n"
   ]
  },
  {
   "cell_type": "markdown",
   "metadata": {},
   "source": [
    "#### Splitting a 2D Array"
   ]
  },
  {
   "cell_type": "code",
   "execution_count": 26,
   "metadata": {},
   "outputs": [
    {
     "name": "stdout",
     "output_type": "stream",
     "text": [
      "Split along columns: [array([[1, 2],\n",
      "       [5, 6]]), array([[3, 4],\n",
      "       [7, 8]])]\n",
      "Split along rows: [array([[1, 2, 3, 4]]), array([[5, 6, 7, 8]])]\n"
     ]
    }
   ],
   "source": [
    "arr2D = np.array([[1, 2, 3, 4], \n",
    "                  [5, 6, 7, 8]])\n",
    "\n",
    "# Splitting along columns (axis=1)\n",
    "print(\"Split along columns:\", np.hsplit(arr2D, 2))\n",
    "\n",
    "# Splitting along rows (axis=0)\n",
    "print(\"Split along rows:\", np.vsplit(arr2D, 2))\n"
   ]
  },
  {
   "cell_type": "markdown",
   "metadata": {},
   "source": [
    "#### Generating Random Integers (randint)"
   ]
  },
  {
   "cell_type": "code",
   "execution_count": 27,
   "metadata": {},
   "outputs": [
    {
     "name": "stdout",
     "output_type": "stream",
     "text": [
      "Random Integer: 45\n",
      "Random Array: [71 50 12 18 15]\n",
      "Random 2D Array:\n",
      " [[78 40 12]\n",
      " [75  3 59]\n",
      " [62 70 74]]\n"
     ]
    }
   ],
   "source": [
    "import numpy as np  \n",
    "\n",
    "# Generate a single random integer between 1 and 100\n",
    "rand_int = np.random.randint(1, 100)\n",
    "print(\"Random Integer:\", rand_int)\n",
    "\n",
    "# Generate an array of 5 random integers between 1 and 100\n",
    "rand_array = np.random.randint(1, 100, size=5)\n",
    "print(\"Random Array:\", rand_array)\n",
    "\n",
    "# Generate a 2D array of random integers\n",
    "rand_2D = np.random.randint(1, 100, size=(3, 3))\n",
    "print(\"Random 2D Array:\\n\", rand_2D)\n"
   ]
  },
  {
   "cell_type": "markdown",
   "metadata": {},
   "source": [
    "#### Generating Random Floating-Point Numbers (rand, randn)\n"
   ]
  },
  {
   "cell_type": "markdown",
   "metadata": {},
   "source": [
    "#### rand() – Uniform Distribution (0 to 1)"
   ]
  },
  {
   "cell_type": "code",
   "execution_count": 28,
   "metadata": {},
   "outputs": [
    {
     "name": "stdout",
     "output_type": "stream",
     "text": [
      "Single Random Float: 0.014063434107818074\n",
      "\n",
      "3x3 Random Float Array:\n",
      " [[0.44978667 0.91261882 0.56211768]\n",
      " [0.83899321 0.65776808 0.79809983]\n",
      " [0.94481927 0.20481955 0.5512151 ]]\n"
     ]
    }
   ],
   "source": [
    "rand_float = np.random.rand()  # Single random float\n",
    "rand_floats = np.random.rand(3, 3)  # 3x3 array of random floats\n",
    "\n",
    "print(\"Single Random Float:\", rand_float)\n",
    "print(\"\\n3x3 Random Float Array:\\n\", rand_floats)\n"
   ]
  },
  {
   "cell_type": "markdown",
   "metadata": {},
   "source": [
    "#### randn() – Standard Normal Distribution (Mean = 0, Std Dev = 1)"
   ]
  },
  {
   "cell_type": "code",
   "execution_count": 30,
   "metadata": {},
   "outputs": [
    {
     "name": "stdout",
     "output_type": "stream",
     "text": [
      "Random Normal Distribution Array:\n",
      " [[-0.00557609  1.65540207  0.71649616]\n",
      " [-0.43645492 -0.91707071 -1.19906368]\n",
      " [ 0.35253609  0.37815014  0.85624511]]\n"
     ]
    }
   ],
   "source": [
    "rand_norm = np.random.randn(3, 3)  # 3x3 matrix of normally distributed numbers\n",
    "print(\"Random Normal Distribution Array:\\n\", rand_norm)\n",
    "# Generates random numbers from a normal (Gaussian) distribution."
   ]
  },
  {
   "cell_type": "markdown",
   "metadata": {},
   "source": [
    "#### Setting a Random Seed for Reproducibility"
   ]
  },
  {
   "cell_type": "code",
   "execution_count": 34,
   "metadata": {},
   "outputs": [
    {
     "name": "stdout",
     "output_type": "stream",
     "text": [
      "Random numbers with seed:\n",
      "[[0.37454012 0.95071431 0.73199394]\n",
      " [0.59865848 0.15601864 0.15599452]\n",
      " [0.05808361 0.86617615 0.60111501]]\n"
     ]
    }
   ],
   "source": [
    "np.random.seed(42)  # Setting seed for reproducibility\n",
    "\n",
    "print(\"Random numbers with seed:\")\n",
    "print(np.random.rand(3, 3))  # Generates the same numbers every time\n"
   ]
  },
  {
   "cell_type": "markdown",
   "metadata": {},
   "source": [
    "#### Randomly Shuffling & Choosing Elements"
   ]
  }
 ],
 "metadata": {
  "kernelspec": {
   "display_name": ".venv",
   "language": "python",
   "name": "python3"
  },
  "language_info": {
   "codemirror_mode": {
    "name": "ipython",
    "version": 3
   },
   "file_extension": ".py",
   "mimetype": "text/x-python",
   "name": "python",
   "nbconvert_exporter": "python",
   "pygments_lexer": "ipython3",
   "version": "3.12.1"
  }
 },
 "nbformat": 4,
 "nbformat_minor": 2
}
